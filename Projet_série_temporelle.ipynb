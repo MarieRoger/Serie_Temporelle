{
 "cells": [
  {
   "cell_type": "markdown",
   "id": "24a68d41",
   "metadata": {},
   "source": [
    "# PROJET SUR LA MODELISATION D'UNE SERIE TEMPORELLE SUR PYTHON"
   ]
  },
  {
   "cell_type": "markdown",
   "id": "138843f4",
   "metadata": {},
   "source": [
    "## Installation et importation des packages "
   ]
  },
  {
   "cell_type": "code",
   "execution_count": 1,
   "id": "64ae9648",
   "metadata": {},
   "outputs": [],
   "source": [
    "#!pip install seaborn"
   ]
  },
  {
   "cell_type": "code",
   "execution_count": 2,
   "id": "e6828bad",
   "metadata": {},
   "outputs": [],
   "source": [
    "#!pip install datetime"
   ]
  },
  {
   "cell_type": "code",
   "execution_count": 3,
   "id": "eaab7b3c",
   "metadata": {},
   "outputs": [],
   "source": [
    "#importation des bibliothèques\n",
    "import pandas as pd\n",
    "import datetime\n",
    "from matplotlib import pyplot as plt\n",
    "from statsmodels.tsa.stattools import adfuller\n",
    "from statsmodels.tsa.arima_model import ARIMA\n",
    "from statsmodels.tsa.seasonal import seasonal_decompose\n",
    "from statsmodels.graphics.tsaplots import plot_acf, plot_pacf\n",
    "from statsmodels.graphics.tsaplots import plot_predict\n",
    "import statsmodels.api as sm\n",
    "import matplotlib.pyplot as plt\n",
    "import seaborn as sns"
   ]
  },
  {
   "cell_type": "markdown",
   "id": "26d17488",
   "metadata": {},
   "source": [
    "## Importation des données et Nettoyage de la base des données"
   ]
  },
  {
   "cell_type": "code",
   "execution_count": 4,
   "id": "496e5e11",
   "metadata": {},
   "outputs": [],
   "source": [
    "# importation du dataset\n",
    "data = pd.read_csv(r\"C:\\Users\\MarieRogerNoahNoah\\Documents\\Série Temporelle\\BPD_Part_1_Victim_Based_Crime_Data.csv\")"
   ]
  },
  {
   "cell_type": "code",
   "execution_count": 5,
   "id": "3affece7",
   "metadata": {},
   "outputs": [
    {
     "data": {
      "text/html": [
       "<div>\n",
       "<style scoped>\n",
       "    .dataframe tbody tr th:only-of-type {\n",
       "        vertical-align: middle;\n",
       "    }\n",
       "\n",
       "    .dataframe tbody tr th {\n",
       "        vertical-align: top;\n",
       "    }\n",
       "\n",
       "    .dataframe thead th {\n",
       "        text-align: right;\n",
       "    }\n",
       "</style>\n",
       "<table border=\"1\" class=\"dataframe\">\n",
       "  <thead>\n",
       "    <tr style=\"text-align: right;\">\n",
       "      <th></th>\n",
       "      <th>CrimeDate</th>\n",
       "      <th>CrimeTime</th>\n",
       "      <th>CrimeCode</th>\n",
       "      <th>Location</th>\n",
       "      <th>Description</th>\n",
       "      <th>Inside/Outside</th>\n",
       "      <th>Weapon</th>\n",
       "      <th>Post</th>\n",
       "      <th>District</th>\n",
       "      <th>Neighborhood</th>\n",
       "      <th>Location 1</th>\n",
       "      <th>Total Incidents</th>\n",
       "    </tr>\n",
       "  </thead>\n",
       "  <tbody>\n",
       "    <tr>\n",
       "      <th>0</th>\n",
       "      <td>11/12/2016</td>\n",
       "      <td>02:35:00</td>\n",
       "      <td>3B</td>\n",
       "      <td>300 SAINT PAUL PL</td>\n",
       "      <td>ROBBERY - STREET</td>\n",
       "      <td>O</td>\n",
       "      <td>NaN</td>\n",
       "      <td>111.0</td>\n",
       "      <td>CENTRAL</td>\n",
       "      <td>Downtown</td>\n",
       "      <td>(39.2924100000, -76.6140800000)</td>\n",
       "      <td>1</td>\n",
       "    </tr>\n",
       "    <tr>\n",
       "      <th>1</th>\n",
       "      <td>11/12/2016</td>\n",
       "      <td>02:56:00</td>\n",
       "      <td>3CF</td>\n",
       "      <td>800 S BROADWAY</td>\n",
       "      <td>ROBBERY - COMMERCIAL</td>\n",
       "      <td>I</td>\n",
       "      <td>FIREARM</td>\n",
       "      <td>213.0</td>\n",
       "      <td>SOUTHEASTERN</td>\n",
       "      <td>Fells Point</td>\n",
       "      <td>(39.2824200000, -76.5928800000)</td>\n",
       "      <td>1</td>\n",
       "    </tr>\n",
       "    <tr>\n",
       "      <th>2</th>\n",
       "      <td>11/12/2016</td>\n",
       "      <td>03:00:00</td>\n",
       "      <td>6D</td>\n",
       "      <td>1500 PENTWOOD RD</td>\n",
       "      <td>LARCENY FROM AUTO</td>\n",
       "      <td>O</td>\n",
       "      <td>NaN</td>\n",
       "      <td>413.0</td>\n",
       "      <td>NORTHEASTERN</td>\n",
       "      <td>Stonewood-Pentwood-Winston</td>\n",
       "      <td>(39.3480500000, -76.5883400000)</td>\n",
       "      <td>1</td>\n",
       "    </tr>\n",
       "    <tr>\n",
       "      <th>3</th>\n",
       "      <td>11/12/2016</td>\n",
       "      <td>03:00:00</td>\n",
       "      <td>6D</td>\n",
       "      <td>6600 MILTON LN</td>\n",
       "      <td>LARCENY FROM AUTO</td>\n",
       "      <td>O</td>\n",
       "      <td>NaN</td>\n",
       "      <td>424.0</td>\n",
       "      <td>NORTHEASTERN</td>\n",
       "      <td>Westfield</td>\n",
       "      <td>(39.3626300000, -76.5516100000)</td>\n",
       "      <td>1</td>\n",
       "    </tr>\n",
       "    <tr>\n",
       "      <th>4</th>\n",
       "      <td>11/12/2016</td>\n",
       "      <td>03:00:00</td>\n",
       "      <td>6E</td>\n",
       "      <td>300 W BALTIMORE ST</td>\n",
       "      <td>LARCENY</td>\n",
       "      <td>O</td>\n",
       "      <td>NaN</td>\n",
       "      <td>111.0</td>\n",
       "      <td>CENTRAL</td>\n",
       "      <td>Downtown</td>\n",
       "      <td>(39.2893800000, -76.6197100000)</td>\n",
       "      <td>1</td>\n",
       "    </tr>\n",
       "    <tr>\n",
       "      <th>...</th>\n",
       "      <td>...</td>\n",
       "      <td>...</td>\n",
       "      <td>...</td>\n",
       "      <td>...</td>\n",
       "      <td>...</td>\n",
       "      <td>...</td>\n",
       "      <td>...</td>\n",
       "      <td>...</td>\n",
       "      <td>...</td>\n",
       "      <td>...</td>\n",
       "      <td>...</td>\n",
       "      <td>...</td>\n",
       "    </tr>\n",
       "    <tr>\n",
       "      <th>285802</th>\n",
       "      <td>01/01/2011</td>\n",
       "      <td>22:15:00</td>\n",
       "      <td>4D</td>\n",
       "      <td>6800 MCCLEAN BD</td>\n",
       "      <td>AGG. ASSAULT</td>\n",
       "      <td>I</td>\n",
       "      <td>HANDS</td>\n",
       "      <td>423.0</td>\n",
       "      <td>NORTHEASTERN</td>\n",
       "      <td>Hamilton Hills</td>\n",
       "      <td>(39.3704700000, -76.5670500000)</td>\n",
       "      <td>1</td>\n",
       "    </tr>\n",
       "    <tr>\n",
       "      <th>285803</th>\n",
       "      <td>01/01/2011</td>\n",
       "      <td>22:30:00</td>\n",
       "      <td>6J</td>\n",
       "      <td>3000 ODONNELL ST</td>\n",
       "      <td>LARCENY</td>\n",
       "      <td>I</td>\n",
       "      <td>NaN</td>\n",
       "      <td>232.0</td>\n",
       "      <td>SOUTHEASTERN</td>\n",
       "      <td>Canton</td>\n",
       "      <td>(39.2804600000, -76.5727300000)</td>\n",
       "      <td>1</td>\n",
       "    </tr>\n",
       "    <tr>\n",
       "      <th>285804</th>\n",
       "      <td>01/01/2011</td>\n",
       "      <td>23:00:00</td>\n",
       "      <td>7A</td>\n",
       "      <td>2500 ARUNAH AV</td>\n",
       "      <td>AUTO THEFT</td>\n",
       "      <td>O</td>\n",
       "      <td>NaN</td>\n",
       "      <td>721.0</td>\n",
       "      <td>WESTERN</td>\n",
       "      <td>Evergreen Lawn</td>\n",
       "      <td>(39.2954200000, -76.6592800000)</td>\n",
       "      <td>1</td>\n",
       "    </tr>\n",
       "    <tr>\n",
       "      <th>285805</th>\n",
       "      <td>01/01/2011</td>\n",
       "      <td>23:25:00</td>\n",
       "      <td>4E</td>\n",
       "      <td>100 N MONROE ST</td>\n",
       "      <td>COMMON ASSAULT</td>\n",
       "      <td>I</td>\n",
       "      <td>HANDS</td>\n",
       "      <td>714.0</td>\n",
       "      <td>WESTERN</td>\n",
       "      <td>Penrose/Fayette Street Outreach</td>\n",
       "      <td>(39.2899900000, -76.6470700000)</td>\n",
       "      <td>1</td>\n",
       "    </tr>\n",
       "    <tr>\n",
       "      <th>285806</th>\n",
       "      <td>01/01/2011</td>\n",
       "      <td>23:38:00</td>\n",
       "      <td>4D</td>\n",
       "      <td>800 N FREMONT AV</td>\n",
       "      <td>AGG. ASSAULT</td>\n",
       "      <td>I</td>\n",
       "      <td>HANDS</td>\n",
       "      <td>123.0</td>\n",
       "      <td>WESTERN</td>\n",
       "      <td>Upton</td>\n",
       "      <td>(39.2981200000, -76.6339100000)</td>\n",
       "      <td>1</td>\n",
       "    </tr>\n",
       "  </tbody>\n",
       "</table>\n",
       "<p>285807 rows × 12 columns</p>\n",
       "</div>"
      ],
      "text/plain": [
       "         CrimeDate CrimeTime CrimeCode            Location  \\\n",
       "0       11/12/2016  02:35:00        3B   300 SAINT PAUL PL   \n",
       "1       11/12/2016  02:56:00       3CF      800 S BROADWAY   \n",
       "2       11/12/2016  03:00:00        6D    1500 PENTWOOD RD   \n",
       "3       11/12/2016  03:00:00        6D      6600 MILTON LN   \n",
       "4       11/12/2016  03:00:00        6E  300 W BALTIMORE ST   \n",
       "...            ...       ...       ...                 ...   \n",
       "285802  01/01/2011  22:15:00        4D     6800 MCCLEAN BD   \n",
       "285803  01/01/2011  22:30:00        6J    3000 ODONNELL ST   \n",
       "285804  01/01/2011  23:00:00        7A      2500 ARUNAH AV   \n",
       "285805  01/01/2011  23:25:00        4E     100 N MONROE ST   \n",
       "285806  01/01/2011  23:38:00        4D    800 N FREMONT AV   \n",
       "\n",
       "                 Description Inside/Outside   Weapon   Post      District  \\\n",
       "0           ROBBERY - STREET              O      NaN  111.0       CENTRAL   \n",
       "1       ROBBERY - COMMERCIAL              I  FIREARM  213.0  SOUTHEASTERN   \n",
       "2          LARCENY FROM AUTO              O      NaN  413.0  NORTHEASTERN   \n",
       "3          LARCENY FROM AUTO              O      NaN  424.0  NORTHEASTERN   \n",
       "4                    LARCENY              O      NaN  111.0       CENTRAL   \n",
       "...                      ...            ...      ...    ...           ...   \n",
       "285802          AGG. ASSAULT              I    HANDS  423.0  NORTHEASTERN   \n",
       "285803               LARCENY              I      NaN  232.0  SOUTHEASTERN   \n",
       "285804            AUTO THEFT              O      NaN  721.0       WESTERN   \n",
       "285805        COMMON ASSAULT              I    HANDS  714.0       WESTERN   \n",
       "285806          AGG. ASSAULT              I    HANDS  123.0       WESTERN   \n",
       "\n",
       "                           Neighborhood                       Location 1  \\\n",
       "0                              Downtown  (39.2924100000, -76.6140800000)   \n",
       "1                           Fells Point  (39.2824200000, -76.5928800000)   \n",
       "2            Stonewood-Pentwood-Winston  (39.3480500000, -76.5883400000)   \n",
       "3                             Westfield  (39.3626300000, -76.5516100000)   \n",
       "4                              Downtown  (39.2893800000, -76.6197100000)   \n",
       "...                                 ...                              ...   \n",
       "285802                   Hamilton Hills  (39.3704700000, -76.5670500000)   \n",
       "285803                           Canton  (39.2804600000, -76.5727300000)   \n",
       "285804                   Evergreen Lawn  (39.2954200000, -76.6592800000)   \n",
       "285805  Penrose/Fayette Street Outreach  (39.2899900000, -76.6470700000)   \n",
       "285806                            Upton  (39.2981200000, -76.6339100000)   \n",
       "\n",
       "        Total Incidents  \n",
       "0                     1  \n",
       "1                     1  \n",
       "2                     1  \n",
       "3                     1  \n",
       "4                     1  \n",
       "...                 ...  \n",
       "285802                1  \n",
       "285803                1  \n",
       "285804                1  \n",
       "285805                1  \n",
       "285806                1  \n",
       "\n",
       "[285807 rows x 12 columns]"
      ]
     },
     "execution_count": 5,
     "metadata": {},
     "output_type": "execute_result"
    }
   ],
   "source": [
    "#visualistion du dataset\n",
    "data"
   ]
  },
  {
   "cell_type": "code",
   "execution_count": 6,
   "id": "b67283d8",
   "metadata": {},
   "outputs": [
    {
     "name": "stdout",
     "output_type": "stream",
     "text": [
      "<class 'pandas.core.frame.DataFrame'>\n",
      "RangeIndex: 285807 entries, 0 to 285806\n",
      "Data columns (total 12 columns):\n",
      " #   Column           Non-Null Count   Dtype  \n",
      "---  ------           --------------   -----  \n",
      " 0   CrimeDate        285807 non-null  object \n",
      " 1   CrimeTime        285807 non-null  object \n",
      " 2   CrimeCode        285807 non-null  object \n",
      " 3   Location         284184 non-null  object \n",
      " 4   Description      285807 non-null  object \n",
      " 5   Inside/Outside   281611 non-null  object \n",
      " 6   Weapon           97396 non-null   object \n",
      " 7   Post             285616 non-null  float64\n",
      " 8   District         285749 non-null  object \n",
      " 9   Neighborhood     284106 non-null  object \n",
      " 10  Location 1       284188 non-null  object \n",
      " 11  Total Incidents  285807 non-null  int64  \n",
      "dtypes: float64(1), int64(1), object(10)\n",
      "memory usage: 26.2+ MB\n"
     ]
    }
   ],
   "source": [
    "data.info()"
   ]
  },
  {
   "cell_type": "code",
   "execution_count": 7,
   "id": "bd294d4f",
   "metadata": {},
   "outputs": [
    {
     "name": "stdout",
     "output_type": "stream",
     "text": [
      "0          True\n",
      "1         False\n",
      "2          True\n",
      "3          True\n",
      "4          True\n",
      "          ...  \n",
      "285802    False\n",
      "285803     True\n",
      "285804     True\n",
      "285805    False\n",
      "285806    False\n",
      "Length: 285807, dtype: bool\n"
     ]
    }
   ],
   "source": [
    "# Utilisation de isna() pour détecter toutes les lignes avec NaN sous le DataFrame entier :\n",
    "print (data.isna().any(axis=1))"
   ]
  },
  {
   "cell_type": "code",
   "execution_count": 8,
   "id": "eb07a7f3",
   "metadata": {},
   "outputs": [],
   "source": [
    "# Nettoyage de la base de donnée\n",
    "data = data.dropna()# dropna pour supprimer les valeurs nulles "
   ]
  },
  {
   "cell_type": "markdown",
   "id": "66104eeb",
   "metadata": {},
   "source": [
    "#### Vérification de la suppression des valeurs nulles"
   ]
  },
  {
   "cell_type": "code",
   "execution_count": 9,
   "id": "3f3ee7dd",
   "metadata": {},
   "outputs": [
    {
     "name": "stdout",
     "output_type": "stream",
     "text": [
      "1         False\n",
      "5         False\n",
      "6         False\n",
      "9         False\n",
      "11        False\n",
      "          ...  \n",
      "285799    False\n",
      "285801    False\n",
      "285802    False\n",
      "285805    False\n",
      "285806    False\n",
      "Length: 95060, dtype: bool\n"
     ]
    }
   ],
   "source": [
    "# Utilisation de isna() pour détecter toutes les lignes avec NaN sous le DataFrame entier :\n",
    "print (data.isna().any(axis=1))"
   ]
  },
  {
   "cell_type": "code",
   "execution_count": 10,
   "id": "cfdf1cdd",
   "metadata": {},
   "outputs": [
    {
     "name": "stdout",
     "output_type": "stream",
     "text": [
      "<class 'pandas.core.frame.DataFrame'>\n",
      "Int64Index: 95060 entries, 1 to 285806\n",
      "Data columns (total 12 columns):\n",
      " #   Column           Non-Null Count  Dtype  \n",
      "---  ------           --------------  -----  \n",
      " 0   CrimeDate        95060 non-null  object \n",
      " 1   CrimeTime        95060 non-null  object \n",
      " 2   CrimeCode        95060 non-null  object \n",
      " 3   Location         95060 non-null  object \n",
      " 4   Description      95060 non-null  object \n",
      " 5   Inside/Outside   95060 non-null  object \n",
      " 6   Weapon           95060 non-null  object \n",
      " 7   Post             95060 non-null  float64\n",
      " 8   District         95060 non-null  object \n",
      " 9   Neighborhood     95060 non-null  object \n",
      " 10  Location 1       95060 non-null  object \n",
      " 11  Total Incidents  95060 non-null  int64  \n",
      "dtypes: float64(1), int64(1), object(10)\n",
      "memory usage: 9.4+ MB\n"
     ]
    }
   ],
   "source": [
    "data.info()"
   ]
  },
  {
   "cell_type": "code",
   "execution_count": 11,
   "id": "bfd8d5e1",
   "metadata": {},
   "outputs": [],
   "source": [
    "# le type des variables de la base de données\n",
    "#data.dtypes"
   ]
  },
  {
   "cell_type": "code",
   "execution_count": 12,
   "id": "7b6feb3b",
   "metadata": {},
   "outputs": [
    {
     "name": "stderr",
     "output_type": "stream",
     "text": [
      "C:\\Users\\MarieRogerNoahNoah\\AppData\\Local\\Temp\\ipykernel_11332\\136064884.py:2: SettingWithCopyWarning: \n",
      "A value is trying to be set on a copy of a slice from a DataFrame.\n",
      "Try using .loc[row_indexer,col_indexer] = value instead\n",
      "\n",
      "See the caveats in the documentation: https://pandas.pydata.org/pandas-docs/stable/user_guide/indexing.html#returning-a-view-versus-a-copy\n",
      "  data['CrimeDate'] = pd.to_datetime(data['CrimeDate'])\n"
     ]
    }
   ],
   "source": [
    "# changement du type object de la variable CrimeDate en type date\n",
    "data['CrimeDate'] = pd.to_datetime(data['CrimeDate'])"
   ]
  },
  {
   "cell_type": "code",
   "execution_count": 13,
   "id": "eda30655",
   "metadata": {},
   "outputs": [
    {
     "data": {
      "text/plain": [
       "CrimeDate          datetime64[ns]\n",
       "CrimeTime                  object\n",
       "CrimeCode                  object\n",
       "Location                   object\n",
       "Description                object\n",
       "Inside/Outside             object\n",
       "Weapon                     object\n",
       "Post                      float64\n",
       "District                   object\n",
       "Neighborhood               object\n",
       "Location 1                 object\n",
       "Total Incidents             int64\n",
       "dtype: object"
      ]
     },
     "execution_count": 13,
     "metadata": {},
     "output_type": "execute_result"
    }
   ],
   "source": [
    "# vérification si le changement du type dedonnée est effectif\n",
    "data.dtypes"
   ]
  },
  {
   "cell_type": "markdown",
   "id": "54f8abc5",
   "metadata": {},
   "source": [
    "### Regroupement des crimes par date"
   ]
  },
  {
   "cell_type": "code",
   "execution_count": 14,
   "id": "1a8cc55e",
   "metadata": {},
   "outputs": [
    {
     "data": {
      "text/html": [
       "<div>\n",
       "<style scoped>\n",
       "    .dataframe tbody tr th:only-of-type {\n",
       "        vertical-align: middle;\n",
       "    }\n",
       "\n",
       "    .dataframe tbody tr th {\n",
       "        vertical-align: top;\n",
       "    }\n",
       "\n",
       "    .dataframe thead th {\n",
       "        text-align: right;\n",
       "    }\n",
       "</style>\n",
       "<table border=\"1\" class=\"dataframe\">\n",
       "  <thead>\n",
       "    <tr style=\"text-align: right;\">\n",
       "      <th></th>\n",
       "      <th>CrimeDate</th>\n",
       "      <th>Post</th>\n",
       "      <th>Total Incidents</th>\n",
       "    </tr>\n",
       "  </thead>\n",
       "  <tbody>\n",
       "    <tr>\n",
       "      <th>0</th>\n",
       "      <td>2011-01-01</td>\n",
       "      <td>38681.0</td>\n",
       "      <td>80</td>\n",
       "    </tr>\n",
       "    <tr>\n",
       "      <th>1</th>\n",
       "      <td>2011-01-02</td>\n",
       "      <td>15459.0</td>\n",
       "      <td>31</td>\n",
       "    </tr>\n",
       "    <tr>\n",
       "      <th>2</th>\n",
       "      <td>2011-01-03</td>\n",
       "      <td>19122.0</td>\n",
       "      <td>37</td>\n",
       "    </tr>\n",
       "    <tr>\n",
       "      <th>3</th>\n",
       "      <td>2011-01-04</td>\n",
       "      <td>22932.0</td>\n",
       "      <td>42</td>\n",
       "    </tr>\n",
       "    <tr>\n",
       "      <th>4</th>\n",
       "      <td>2011-01-05</td>\n",
       "      <td>22538.0</td>\n",
       "      <td>42</td>\n",
       "    </tr>\n",
       "    <tr>\n",
       "      <th>...</th>\n",
       "      <td>...</td>\n",
       "      <td>...</td>\n",
       "      <td>...</td>\n",
       "    </tr>\n",
       "    <tr>\n",
       "      <th>2138</th>\n",
       "      <td>2016-11-08</td>\n",
       "      <td>23056.0</td>\n",
       "      <td>37</td>\n",
       "    </tr>\n",
       "    <tr>\n",
       "      <th>2139</th>\n",
       "      <td>2016-11-09</td>\n",
       "      <td>18194.0</td>\n",
       "      <td>36</td>\n",
       "    </tr>\n",
       "    <tr>\n",
       "      <th>2140</th>\n",
       "      <td>2016-11-10</td>\n",
       "      <td>12134.0</td>\n",
       "      <td>25</td>\n",
       "    </tr>\n",
       "    <tr>\n",
       "      <th>2141</th>\n",
       "      <td>2016-11-11</td>\n",
       "      <td>25655.0</td>\n",
       "      <td>49</td>\n",
       "    </tr>\n",
       "    <tr>\n",
       "      <th>2142</th>\n",
       "      <td>2016-11-12</td>\n",
       "      <td>16307.0</td>\n",
       "      <td>33</td>\n",
       "    </tr>\n",
       "  </tbody>\n",
       "</table>\n",
       "<p>2143 rows × 3 columns</p>\n",
       "</div>"
      ],
      "text/plain": [
       "      CrimeDate     Post  Total Incidents\n",
       "0    2011-01-01  38681.0               80\n",
       "1    2011-01-02  15459.0               31\n",
       "2    2011-01-03  19122.0               37\n",
       "3    2011-01-04  22932.0               42\n",
       "4    2011-01-05  22538.0               42\n",
       "...         ...      ...              ...\n",
       "2138 2016-11-08  23056.0               37\n",
       "2139 2016-11-09  18194.0               36\n",
       "2140 2016-11-10  12134.0               25\n",
       "2141 2016-11-11  25655.0               49\n",
       "2142 2016-11-12  16307.0               33\n",
       "\n",
       "[2143 rows x 3 columns]"
      ]
     },
     "execution_count": 14,
     "metadata": {},
     "output_type": "execute_result"
    }
   ],
   "source": [
    "data1 = data.groupby(by = 'CrimeDate',as_index= False).sum()\n",
    "data1"
   ]
  },
  {
   "cell_type": "code",
   "execution_count": 15,
   "id": "7f89527c",
   "metadata": {},
   "outputs": [
    {
     "data": {
      "text/html": [
       "<div>\n",
       "<style scoped>\n",
       "    .dataframe tbody tr th:only-of-type {\n",
       "        vertical-align: middle;\n",
       "    }\n",
       "\n",
       "    .dataframe tbody tr th {\n",
       "        vertical-align: top;\n",
       "    }\n",
       "\n",
       "    .dataframe thead th {\n",
       "        text-align: right;\n",
       "    }\n",
       "</style>\n",
       "<table border=\"1\" class=\"dataframe\">\n",
       "  <thead>\n",
       "    <tr style=\"text-align: right;\">\n",
       "      <th></th>\n",
       "      <th>Post</th>\n",
       "      <th>Total Incidents</th>\n",
       "    </tr>\n",
       "    <tr>\n",
       "      <th>CrimeDate</th>\n",
       "      <th></th>\n",
       "      <th></th>\n",
       "    </tr>\n",
       "  </thead>\n",
       "  <tbody>\n",
       "    <tr>\n",
       "      <th>2011-01-01</th>\n",
       "      <td>38681.0</td>\n",
       "      <td>80</td>\n",
       "    </tr>\n",
       "    <tr>\n",
       "      <th>2011-01-02</th>\n",
       "      <td>15459.0</td>\n",
       "      <td>31</td>\n",
       "    </tr>\n",
       "    <tr>\n",
       "      <th>2011-01-03</th>\n",
       "      <td>19122.0</td>\n",
       "      <td>37</td>\n",
       "    </tr>\n",
       "    <tr>\n",
       "      <th>2011-01-04</th>\n",
       "      <td>22932.0</td>\n",
       "      <td>42</td>\n",
       "    </tr>\n",
       "    <tr>\n",
       "      <th>2011-01-05</th>\n",
       "      <td>22538.0</td>\n",
       "      <td>42</td>\n",
       "    </tr>\n",
       "    <tr>\n",
       "      <th>...</th>\n",
       "      <td>...</td>\n",
       "      <td>...</td>\n",
       "    </tr>\n",
       "    <tr>\n",
       "      <th>2016-11-08</th>\n",
       "      <td>23056.0</td>\n",
       "      <td>37</td>\n",
       "    </tr>\n",
       "    <tr>\n",
       "      <th>2016-11-09</th>\n",
       "      <td>18194.0</td>\n",
       "      <td>36</td>\n",
       "    </tr>\n",
       "    <tr>\n",
       "      <th>2016-11-10</th>\n",
       "      <td>12134.0</td>\n",
       "      <td>25</td>\n",
       "    </tr>\n",
       "    <tr>\n",
       "      <th>2016-11-11</th>\n",
       "      <td>25655.0</td>\n",
       "      <td>49</td>\n",
       "    </tr>\n",
       "    <tr>\n",
       "      <th>2016-11-12</th>\n",
       "      <td>16307.0</td>\n",
       "      <td>33</td>\n",
       "    </tr>\n",
       "  </tbody>\n",
       "</table>\n",
       "<p>2143 rows × 2 columns</p>\n",
       "</div>"
      ],
      "text/plain": [
       "               Post  Total Incidents\n",
       "CrimeDate                           \n",
       "2011-01-01  38681.0               80\n",
       "2011-01-02  15459.0               31\n",
       "2011-01-03  19122.0               37\n",
       "2011-01-04  22932.0               42\n",
       "2011-01-05  22538.0               42\n",
       "...             ...              ...\n",
       "2016-11-08  23056.0               37\n",
       "2016-11-09  18194.0               36\n",
       "2016-11-10  12134.0               25\n",
       "2016-11-11  25655.0               49\n",
       "2016-11-12  16307.0               33\n",
       "\n",
       "[2143 rows x 2 columns]"
      ]
     },
     "execution_count": 15,
     "metadata": {},
     "output_type": "execute_result"
    }
   ],
   "source": [
    "# celui groupe par date mais considère la colonne CrimeDate comme celle de l'index\n",
    "data2 = data.groupby(pd.Grouper(key='CrimeDate', axis =0,\n",
    "                                freq = 'D')).sum()\n",
    "data2"
   ]
  },
  {
   "cell_type": "code",
   "execution_count": 16,
   "id": "42dff0a8",
   "metadata": {},
   "outputs": [
    {
     "data": {
      "text/html": [
       "<div>\n",
       "<style scoped>\n",
       "    .dataframe tbody tr th:only-of-type {\n",
       "        vertical-align: middle;\n",
       "    }\n",
       "\n",
       "    .dataframe tbody tr th {\n",
       "        vertical-align: top;\n",
       "    }\n",
       "\n",
       "    .dataframe thead th {\n",
       "        text-align: right;\n",
       "    }\n",
       "</style>\n",
       "<table border=\"1\" class=\"dataframe\">\n",
       "  <thead>\n",
       "    <tr style=\"text-align: right;\">\n",
       "      <th></th>\n",
       "      <th>Total Incidents</th>\n",
       "    </tr>\n",
       "    <tr>\n",
       "      <th>CrimeDate</th>\n",
       "      <th></th>\n",
       "    </tr>\n",
       "  </thead>\n",
       "  <tbody>\n",
       "    <tr>\n",
       "      <th>2011-01-01</th>\n",
       "      <td>80</td>\n",
       "    </tr>\n",
       "    <tr>\n",
       "      <th>2011-01-02</th>\n",
       "      <td>31</td>\n",
       "    </tr>\n",
       "    <tr>\n",
       "      <th>2011-01-03</th>\n",
       "      <td>37</td>\n",
       "    </tr>\n",
       "    <tr>\n",
       "      <th>2011-01-04</th>\n",
       "      <td>42</td>\n",
       "    </tr>\n",
       "    <tr>\n",
       "      <th>2011-01-05</th>\n",
       "      <td>42</td>\n",
       "    </tr>\n",
       "    <tr>\n",
       "      <th>...</th>\n",
       "      <td>...</td>\n",
       "    </tr>\n",
       "    <tr>\n",
       "      <th>2016-11-08</th>\n",
       "      <td>37</td>\n",
       "    </tr>\n",
       "    <tr>\n",
       "      <th>2016-11-09</th>\n",
       "      <td>36</td>\n",
       "    </tr>\n",
       "    <tr>\n",
       "      <th>2016-11-10</th>\n",
       "      <td>25</td>\n",
       "    </tr>\n",
       "    <tr>\n",
       "      <th>2016-11-11</th>\n",
       "      <td>49</td>\n",
       "    </tr>\n",
       "    <tr>\n",
       "      <th>2016-11-12</th>\n",
       "      <td>33</td>\n",
       "    </tr>\n",
       "  </tbody>\n",
       "</table>\n",
       "<p>2143 rows × 1 columns</p>\n",
       "</div>"
      ],
      "text/plain": [
       "            Total Incidents\n",
       "CrimeDate                  \n",
       "2011-01-01               80\n",
       "2011-01-02               31\n",
       "2011-01-03               37\n",
       "2011-01-04               42\n",
       "2011-01-05               42\n",
       "...                     ...\n",
       "2016-11-08               37\n",
       "2016-11-09               36\n",
       "2016-11-10               25\n",
       "2016-11-11               49\n",
       "2016-11-12               33\n",
       "\n",
       "[2143 rows x 1 columns]"
      ]
     },
     "execution_count": 16,
     "metadata": {},
     "output_type": "execute_result"
    }
   ],
   "source": [
    "data2 = data2.drop([\"Post\"],axis=1)\n",
    "data2"
   ]
  },
  {
   "cell_type": "code",
   "execution_count": 17,
   "id": "e22ebd27",
   "metadata": {
    "scrolled": true
   },
   "outputs": [
    {
     "name": "stderr",
     "output_type": "stream",
     "text": [
      "C:\\Users\\MarieRogerNoahNoah\\AppData\\Local\\Temp\\ipykernel_11332\\3238176382.py:2: SettingWithCopyWarning: \n",
      "A value is trying to be set on a copy of a slice from a DataFrame.\n",
      "Try using .loc[row_indexer,col_indexer] = value instead\n",
      "\n",
      "See the caveats in the documentation: https://pandas.pydata.org/pandas-docs/stable/user_guide/indexing.html#returning-a-view-versus-a-copy\n",
      "  data['CrimeTime'] = pd.to_datetime(data['CrimeTime'],format='%H:%M:%S',errors = 'coerce')\n"
     ]
    }
   ],
   "source": [
    "# changement du type objet de la variable CrimeTime en type date  unit='s'\n",
    "data['CrimeTime'] = pd.to_datetime(data['CrimeTime'],format='%H:%M:%S',errors = 'coerce')\n",
    "#data['CrimeTime'] = pd.to_datetime(data['CrimeTime'], unit='s',errors = 'coerce')"
   ]
  },
  {
   "cell_type": "code",
   "execution_count": 18,
   "id": "1f835a04",
   "metadata": {},
   "outputs": [
    {
     "name": "stderr",
     "output_type": "stream",
     "text": [
      "C:\\Users\\MarieRogerNoahNoah\\AppData\\Local\\Temp\\ipykernel_11332\\2885472620.py:1: SettingWithCopyWarning: \n",
      "A value is trying to be set on a copy of a slice from a DataFrame.\n",
      "Try using .loc[row_indexer,col_indexer] = value instead\n",
      "\n",
      "See the caveats in the documentation: https://pandas.pydata.org/pandas-docs/stable/user_guide/indexing.html#returning-a-view-versus-a-copy\n",
      "  data['CrimeTime'] = data['CrimeTime'].dt.strftime('%d-%m-%Y %H:%M:%S')\n"
     ]
    }
   ],
   "source": [
    "data['CrimeTime'] = data['CrimeTime'].dt.strftime('%d-%m-%Y %H:%M:%S')"
   ]
  },
  {
   "cell_type": "code",
   "execution_count": 19,
   "id": "cc9e2905",
   "metadata": {},
   "outputs": [
    {
     "data": {
      "text/plain": [
       "CrimeDate          datetime64[ns]\n",
       "CrimeTime                  object\n",
       "CrimeCode                  object\n",
       "Location                   object\n",
       "Description                object\n",
       "Inside/Outside             object\n",
       "Weapon                     object\n",
       "Post                      float64\n",
       "District                   object\n",
       "Neighborhood               object\n",
       "Location 1                 object\n",
       "Total Incidents             int64\n",
       "dtype: object"
      ]
     },
     "execution_count": 19,
     "metadata": {},
     "output_type": "execute_result"
    }
   ],
   "source": [
    "# vérification du changement du type de données\n",
    "data.dtypes"
   ]
  },
  {
   "cell_type": "markdown",
   "id": "76272274",
   "metadata": {},
   "source": [
    "### Regroupement des crimes par heure"
   ]
  },
  {
   "cell_type": "code",
   "execution_count": 20,
   "id": "cdfae5a1",
   "metadata": {},
   "outputs": [
    {
     "data": {
      "text/html": [
       "<div>\n",
       "<style scoped>\n",
       "    .dataframe tbody tr th:only-of-type {\n",
       "        vertical-align: middle;\n",
       "    }\n",
       "\n",
       "    .dataframe tbody tr th {\n",
       "        vertical-align: top;\n",
       "    }\n",
       "\n",
       "    .dataframe thead th {\n",
       "        text-align: right;\n",
       "    }\n",
       "</style>\n",
       "<table border=\"1\" class=\"dataframe\">\n",
       "  <thead>\n",
       "    <tr style=\"text-align: right;\">\n",
       "      <th></th>\n",
       "      <th>CrimeTime</th>\n",
       "      <th>Post</th>\n",
       "      <th>Total Incidents</th>\n",
       "    </tr>\n",
       "  </thead>\n",
       "  <tbody>\n",
       "    <tr>\n",
       "      <th>0</th>\n",
       "      <td>01-01-1900 00:00:00</td>\n",
       "      <td>242766.0</td>\n",
       "      <td>478</td>\n",
       "    </tr>\n",
       "    <tr>\n",
       "      <th>1</th>\n",
       "      <td>01-01-1900 00:00:11</td>\n",
       "      <td>613.0</td>\n",
       "      <td>1</td>\n",
       "    </tr>\n",
       "    <tr>\n",
       "      <th>2</th>\n",
       "      <td>01-01-1900 00:01:00</td>\n",
       "      <td>137543.0</td>\n",
       "      <td>271</td>\n",
       "    </tr>\n",
       "    <tr>\n",
       "      <th>3</th>\n",
       "      <td>01-01-1900 00:02:00</td>\n",
       "      <td>21841.0</td>\n",
       "      <td>54</td>\n",
       "    </tr>\n",
       "    <tr>\n",
       "      <th>4</th>\n",
       "      <td>01-01-1900 00:03:00</td>\n",
       "      <td>22221.0</td>\n",
       "      <td>45</td>\n",
       "    </tr>\n",
       "    <tr>\n",
       "      <th>...</th>\n",
       "      <td>...</td>\n",
       "      <td>...</td>\n",
       "      <td>...</td>\n",
       "    </tr>\n",
       "    <tr>\n",
       "      <th>2850</th>\n",
       "      <td>01-01-1900 23:57:31</td>\n",
       "      <td>443.0</td>\n",
       "      <td>1</td>\n",
       "    </tr>\n",
       "    <tr>\n",
       "      <th>2851</th>\n",
       "      <td>01-01-1900 23:58:00</td>\n",
       "      <td>20974.0</td>\n",
       "      <td>46</td>\n",
       "    </tr>\n",
       "    <tr>\n",
       "      <th>2852</th>\n",
       "      <td>01-01-1900 23:58:26</td>\n",
       "      <td>1662.0</td>\n",
       "      <td>2</td>\n",
       "    </tr>\n",
       "    <tr>\n",
       "      <th>2853</th>\n",
       "      <td>01-01-1900 23:59:00</td>\n",
       "      <td>19168.0</td>\n",
       "      <td>35</td>\n",
       "    </tr>\n",
       "    <tr>\n",
       "      <th>2854</th>\n",
       "      <td>01-01-1900 23:59:26</td>\n",
       "      <td>933.0</td>\n",
       "      <td>1</td>\n",
       "    </tr>\n",
       "  </tbody>\n",
       "</table>\n",
       "<p>2855 rows × 3 columns</p>\n",
       "</div>"
      ],
      "text/plain": [
       "                CrimeTime      Post  Total Incidents\n",
       "0     01-01-1900 00:00:00  242766.0              478\n",
       "1     01-01-1900 00:00:11     613.0                1\n",
       "2     01-01-1900 00:01:00  137543.0              271\n",
       "3     01-01-1900 00:02:00   21841.0               54\n",
       "4     01-01-1900 00:03:00   22221.0               45\n",
       "...                   ...       ...              ...\n",
       "2850  01-01-1900 23:57:31     443.0                1\n",
       "2851  01-01-1900 23:58:00   20974.0               46\n",
       "2852  01-01-1900 23:58:26    1662.0                2\n",
       "2853  01-01-1900 23:59:00   19168.0               35\n",
       "2854  01-01-1900 23:59:26     933.0                1\n",
       "\n",
       "[2855 rows x 3 columns]"
      ]
     },
     "execution_count": 20,
     "metadata": {},
     "output_type": "execute_result"
    }
   ],
   "source": [
    "# regroupement par heure\n",
    "data3 = data.groupby(by = 'CrimeTime',as_index= False).sum()\n",
    "data3"
   ]
  },
  {
   "cell_type": "code",
   "execution_count": 21,
   "id": "b683a104",
   "metadata": {},
   "outputs": [
    {
     "data": {
      "text/plain": [
       "0       01-01-1900 00:00:00\n",
       "1       01-01-1900 00:00:11\n",
       "2       01-01-1900 00:01:00\n",
       "3       01-01-1900 00:02:00\n",
       "4       01-01-1900 00:03:00\n",
       "               ...         \n",
       "2850    01-01-1900 23:57:31\n",
       "2851    01-01-1900 23:58:00\n",
       "2852    01-01-1900 23:58:26\n",
       "2853    01-01-1900 23:59:00\n",
       "2854    01-01-1900 23:59:26\n",
       "Name: CrimeTime, Length: 2855, dtype: object"
      ]
     },
     "execution_count": 21,
     "metadata": {},
     "output_type": "execute_result"
    }
   ],
   "source": [
    "data3['CrimeTime']"
   ]
  },
  {
   "cell_type": "raw",
   "id": "4beb208f",
   "metadata": {},
   "source": [
    "#Regrouper les crimes par temps(heure) avec crime time étant index \n",
    "data4 = data.groupby(pd.Grouper(key='CrimeTime' ,axis =0,\n",
    "                                freq = 'H')).sum()\n",
    "data4"
   ]
  },
  {
   "cell_type": "code",
   "execution_count": 22,
   "id": "8fdf3f5a",
   "metadata": {},
   "outputs": [],
   "source": [
    "#data1= data.groupby(data['CrimeDate'].dt.strftime('%B'))['Total Incidents'].sum().sort_values()"
   ]
  },
  {
   "cell_type": "markdown",
   "id": "bcbef2a3",
   "metadata": {},
   "source": [
    "## Visualisation des données"
   ]
  },
  {
   "cell_type": "markdown",
   "id": "8d9f94e3",
   "metadata": {},
   "source": [
    "#### Visualisation des données regroupées par date"
   ]
  },
  {
   "cell_type": "code",
   "execution_count": 23,
   "id": "9054c6a6",
   "metadata": {},
   "outputs": [
    {
     "data": {
      "text/plain": [
       "<AxesSubplot:title={'center':'Série Temporelle'}, xlabel='CrimeDate'>"
      ]
     },
     "execution_count": 23,
     "metadata": {},
     "output_type": "execute_result"
    },
    {
     "data": {
      "image/png": "[encoded data removed]",
      "text/plain": [
       "<Figure size 432x288 with 1 Axes>"
      ]
     },
     "metadata": {
      "needs_background": "light"
     },
     "output_type": "display_data"
    }
   ],
   "source": [
    "data1.plot(x = 'CrimeDate', y= 'Total Incidents', \n",
    "         title=\"Série Temporelle\",)"
   ]
  },
  {
   "cell_type": "raw",
   "id": "89829e00",
   "metadata": {},
   "source": [
    "D'après la figure ci-dessus on peut dire que la série temporelle présente des fluctuations saisonnières. On observe une augmentation des fuctuations en début d'année qui décroit jusqu'à début de l'année suivante."
   ]
  },
  {
   "cell_type": "code",
   "execution_count": 24,
   "id": "e9b4523f",
   "metadata": {},
   "outputs": [
    {
     "data": {
      "text/plain": [
       "<AxesSubplot:xlabel='CrimeDate', ylabel='Total Incidents'>"
      ]
     },
     "execution_count": 24,
     "metadata": {},
     "output_type": "execute_result"
    },
    {
     "data": {
      "image/png": "[encoded data removed]",
      "text/plain": [
       "<Figure size 432x288 with 1 Axes>"
      ]
     },
     "metadata": {
      "needs_background": "light"
     },
     "output_type": "display_data"
    }
   ],
   "source": [
    "data1.plot.scatter(x='CrimeDate',\n",
    "                      y='Total Incidents')"
   ]
  },
  {
   "cell_type": "code",
   "execution_count": 27,
   "id": "3082c57f",
   "metadata": {},
   "outputs": [
    {
     "data": {
      "text/plain": [
       "Text(0, 0.5, 'Fréquence')"
      ]
     },
     "execution_count": 27,
     "metadata": {},
     "output_type": "execute_result"
    },
    {
     "data": {
      "image/png": "[encoded data removed]",
      "text/plain": [
       "<Figure size 432x288 with 1 Axes>"
      ]
     },
     "metadata": {
      "needs_background": "light"
     },
     "output_type": "display_data"
    }
   ],
   "source": [
    "hist = data1['Total Incidents'].hist()\n",
    "plt.title(\"Histogramme du Total d'incidents\")\n",
    "plt.xlabel(\"Total Incidents\")\n",
    "plt.ylabel('Fréquence')"
   ]
  },
  {
   "cell_type": "raw",
   "id": "69b49cc4",
   "metadata": {},
   "source": [
    "On observe qu'on a environ 100 jours où le Total d'incidents est entre 19 et 30, on a environ 610 jours où le Total incidents \n",
    "est entre 30 et 40 , on a également environ 810 jours où le Total incidents est entre 40 et 50, on a environ 490 jours où le \n",
    "Total incidents est entre 50 et 60, on a également environ 110 jours qui ont le Total Incidents entre 60 et 70, on a environ \n",
    "40  jours dont le Total incidents est entre 70 et 81, et pour firnir on a environ 10 jours qui ont le Total Incidents compris \n",
    "entre 81 et 100."
   ]
  },
  {
   "cell_type": "markdown",
   "id": "b6b0ecd5",
   "metadata": {},
   "source": [
    "#### Visualisation des données regroupés par heure"
   ]
  },
  {
   "cell_type": "code",
   "execution_count": 50,
   "id": "2ab2d6fb",
   "metadata": {},
   "outputs": [
    {
     "data": {
      "image/png": "[encoded data removed]",
      "text/plain": [
       "<Figure size 432x288 with 1 Axes>"
      ]
     },
     "metadata": {
      "needs_background": "light"
     },
     "output_type": "display_data"
    }
   ],
   "source": [
    "fig1 = data3.plot(x = 'CrimeTime', y= 'Total Incidents', \n",
    "         title=\"Série Temporelle\",)\n",
    "fig1.set_xticklabels(fig1.get_xticklabels(), rotation=40, ha=\"right\")\n",
    "#sns.move_legend(fig1, \"center right\")\n",
    "#plt.legend(labels=[\"Bourgogne-Franche-Comté\",\"Occitanie\",\"Île-de-France\",\"Hauts-de-France\",\"Auvergne-Rhône-Alpes\",\"Nouvelle-Aquitane\"\"Provence-Alpes-Côte d'Azur\",\"Bretagne\",\"Pays de la Loire\",\"Normandie\",\"Centre-Val de loire\",\"Grand-Est\",\"Corse\",\"La Reunion\",\"Martinique\",\"Guadeloupe\",\"Guyane\",\"Mayotte\",\"07\",\"08\",\"98\"],title_fontsize = \"2\")\n",
    "plt.tight_layout()"
   ]
  },
  {
   "cell_type": "raw",
   "id": "39c7a396",
   "metadata": {},
   "source": [
    "La figure ci-dessus montre des oscillations qui sont serrés par momment et espacé, la série temporelle est moins bruité "
   ]
  },
  {
   "cell_type": "code",
   "execution_count": 29,
   "id": "e650e606",
   "metadata": {},
   "outputs": [
    {
     "data": {
      "text/plain": [
       "<AxesSubplot:xlabel='CrimeTime', ylabel='Total Incidents'>"
      ]
     },
     "execution_count": 29,
     "metadata": {},
     "output_type": "execute_result"
    },
    {
     "data": {
      "image/png": "[encoded data removed]",
      "text/plain": [
       "<Figure size 432x288 with 1 Axes>"
      ]
     },
     "metadata": {
      "needs_background": "light"
     },
     "output_type": "display_data"
    }
   ],
   "source": [
    "data3.plot.scatter(x='CrimeTime',\n",
    "                      y='Total Incidents')"
   ]
  },
  {
   "cell_type": "code",
   "execution_count": 30,
   "id": "51b1bf91",
   "metadata": {},
   "outputs": [
    {
     "data": {
      "text/plain": [
       "Text(0, 0.5, 'Fréquence')"
      ]
     },
     "execution_count": 30,
     "metadata": {},
     "output_type": "execute_result"
    },
    {
     "data": {
      "image/png": "[encoded data removed]",
      "text/plain": [
       "<Figure size 432x288 with 1 Axes>"
      ]
     },
     "metadata": {
      "needs_background": "light"
     },
     "output_type": "display_data"
    }
   ],
   "source": [
    "hist = data3['Total Incidents'].hist()\n",
    "plt.title(\"Histogramme du Total d'incidents\")\n",
    "plt.xlabel(\"Total Incidents\")\n",
    "plt.ylabel('Fréquence')"
   ]
  },
  {
   "cell_type": "code",
   "execution_count": 31,
   "id": "973665f1",
   "metadata": {},
   "outputs": [
    {
     "data": {
      "text/plain": [
       "0     01-01-1900 00:00:00\n",
       "1     01-01-1900 00:00:11\n",
       "2     01-01-1900 00:01:00\n",
       "3     01-01-1900 00:02:00\n",
       "4     01-01-1900 00:03:00\n",
       "             ...         \n",
       "95    01-01-1900 00:53:27\n",
       "96    01-01-1900 00:54:00\n",
       "97    01-01-1900 00:54:22\n",
       "98    01-01-1900 00:54:46\n",
       "99    01-01-1900 00:55:00\n",
       "Name: CrimeTime, Length: 100, dtype: object"
      ]
     },
     "execution_count": 31,
     "metadata": {},
     "output_type": "execute_result"
    }
   ],
   "source": [
    "data3['CrimeTime'][0:100]"
   ]
  },
  {
   "cell_type": "code",
   "execution_count": 32,
   "id": "f1ad5530",
   "metadata": {},
   "outputs": [
    {
     "data": {
      "text/plain": [
       "(2855, 3)"
      ]
     },
     "execution_count": 32,
     "metadata": {},
     "output_type": "execute_result"
    }
   ],
   "source": [
    "data3.shape"
   ]
  },
  {
   "cell_type": "code",
   "execution_count": 33,
   "id": "99c17ad1",
   "metadata": {},
   "outputs": [],
   "source": [
    "#len(data)\n",
    "#data3.shape\n",
    "#data3.info()"
   ]
  },
  {
   "cell_type": "markdown",
   "id": "cd267d16",
   "metadata": {},
   "source": [
    "#### Détermination de l'arme la plus utilisé"
   ]
  },
  {
   "cell_type": "code",
   "execution_count": 34,
   "id": "cd37faf6",
   "metadata": {},
   "outputs": [],
   "source": [
    "#plt.bar(data['Weapon'],data['Total Incidents'])\n",
    "#plt.bar(data['Weapon'])"
   ]
  },
  {
   "cell_type": "code",
   "execution_count": 35,
   "id": "c778af62",
   "metadata": {},
   "outputs": [
    {
     "data": {
      "text/plain": [
       "HANDS      50364\n",
       "FIREARM    20847\n",
       "OTHER      14077\n",
       "KNIFE       9772\n",
       "Name: Weapon, dtype: int64"
      ]
     },
     "execution_count": 35,
     "metadata": {},
     "output_type": "execute_result"
    }
   ],
   "source": [
    "data.Weapon.value_counts()"
   ]
  },
  {
   "cell_type": "code",
   "execution_count": 36,
   "id": "6b2d00e8",
   "metadata": {},
   "outputs": [
    {
     "name": "stderr",
     "output_type": "stream",
     "text": [
      "C:\\Users\\MarieRogerNoahNoah\\.conda\\envs\\regression\\lib\\site-packages\\seaborn\\_decorators.py:36: FutureWarning: Pass the following variable as a keyword arg: x. From version 0.12, the only valid positional argument will be `data`, and passing other arguments without an explicit keyword will result in an error or misinterpretation.\n",
      "  warnings.warn(\n"
     ]
    },
    {
     "data": {
      "text/plain": [
       "<AxesSubplot:xlabel='Weapon', ylabel='count'>"
      ]
     },
     "execution_count": 36,
     "metadata": {},
     "output_type": "execute_result"
    },
    {
     "data": {
      "image/png": "[encoded data removed]",
      "text/plain": [
       "<Figure size 432x288 with 1 Axes>"
      ]
     },
     "metadata": {
      "needs_background": "light"
     },
     "output_type": "display_data"
    }
   ],
   "source": [
    "sns.countplot(data.Weapon)"
   ]
  },
  {
   "cell_type": "raw",
   "id": "73b4a3ee",
   "metadata": {},
   "source": [
    "D'après l'histogramme ci-dessus et le résulta du value_count() sur la variable Weapon, l'arme la plus utilisé est HANDS,\n",
    "c'est à dire les mains"
   ]
  },
  {
   "cell_type": "code",
   "execution_count": 37,
   "id": "a3be4876",
   "metadata": {},
   "outputs": [],
   "source": [
    "# transformer la colonne date en colonne index\n",
    "#data.set_index('CrimeDate',inplace=True)\n",
    "#data"
   ]
  },
  {
   "cell_type": "code",
   "execution_count": 38,
   "id": "254deccf",
   "metadata": {},
   "outputs": [
    {
     "data": {
      "image/png": "[encoded data removed]",
      "text/plain": [
       "<Figure size 432x288 with 4 Axes>"
      ]
     },
     "metadata": {
      "needs_background": "light"
     },
     "output_type": "display_data"
    }
   ],
   "source": [
    "analysis = data2.copy()\n",
    "\n",
    "decompose_result_mult = seasonal_decompose(analysis,model = 'multiplicative')\n",
    "trend = decompose_result_mult.trend\n",
    "seasonal = decompose_result_mult.seasonal\n",
    "residual = decompose_result_mult.resid\n",
    "\n",
    "decompose_result_mult.plot();"
   ]
  },
  {
   "cell_type": "raw",
   "id": "5e865dcd",
   "metadata": {},
   "source": [
    "result = adfuller(data2)\n",
    " \n",
    "print('Statistiques ADF : {}'.format(result[0]))\n",
    "print('p-value : {}'.format(result[1]))\n",
    "print('Valeurs Critiques :')\n",
    "for key, value in result[4].items():\n",
    "    print('\\t{}: {}'.format(key, value))"
   ]
  },
  {
   "cell_type": "code",
   "execution_count": 39,
   "id": "541b46b3",
   "metadata": {},
   "outputs": [
    {
     "data": {
      "image/png": "[encoded data removed]",
      "text/plain": [
       "<Figure size 432x288 with 4 Axes>"
      ]
     },
     "metadata": {
      "needs_background": "light"
     },
     "output_type": "display_data"
    }
   ],
   "source": [
    "analysis = data2['Total Incidents'].copy()\n",
    "\n",
    "decompose_result_mult = seasonal_decompose(analysis,model = 'multiplicative')\n",
    "trend = decompose_result_mult.trend\n",
    "seasonal = decompose_result_mult.seasonal\n",
    "residual = decompose_result_mult.resid\n",
    "\n",
    "decompose_result_mult.plot();"
   ]
  },
  {
   "cell_type": "code",
   "execution_count": 40,
   "id": "22f8e92b",
   "metadata": {},
   "outputs": [
    {
     "name": "stdout",
     "output_type": "stream",
     "text": [
      "Statistiques ADF : -4.233151117511494\n",
      "p-value : 0.0005787451425118189\n",
      "Valeurs Critiques :\n",
      "\t1%: -3.433436860843248\n",
      "\t5%: -2.862903651640104\n",
      "\t10%: -2.5674959426569046\n"
     ]
    }
   ],
   "source": [
    "result = adfuller(data2['Total Incidents'])\n",
    " \n",
    "print('Statistiques ADF : {}'.format(result[0]))\n",
    "print('p-value : {}'.format(result[1]))\n",
    "print('Valeurs Critiques :')\n",
    "for key, value in result[4].items():\n",
    "    print('\\t{}: {}'.format(key, value))"
   ]
  },
  {
   "cell_type": "code",
   "execution_count": 41,
   "id": "8975665d",
   "metadata": {},
   "outputs": [],
   "source": [
    "def ad_test(dataset):\n",
    "    dftest = adfuller(dataset, autolag = 'AIC')\n",
    "    print(\"1. ADF :\", dftest[0])\n",
    "    print(\"2. p-value :\", dftest[1])\n",
    "    print(\"3. Num of Lags :\", dftest[2])\n",
    "    print(\"4. Num of Observation used for ADF Regression and Cristical Values Calculation :\", dftest[3])\n",
    "    print(\"5. Critical Values :\")\n",
    "    for key, val in dftest[4].items():\n",
    "        print(\"\\t\", key, \": \",val)"
   ]
  },
  {
   "cell_type": "code",
   "execution_count": 42,
   "id": "c8a97f34",
   "metadata": {},
   "outputs": [
    {
     "name": "stdout",
     "output_type": "stream",
     "text": [
      "1. ADF : -4.233151117511494\n",
      "2. p-value : 0.0005787451425118189\n",
      "3. Num of Lags : 21\n",
      "4. Num of Observation used for ADF Regression and Cristical Values Calculation : 2121\n",
      "5. Critical Values :\n",
      "\t 1% :  -3.433436860843248\n",
      "\t 5% :  -2.862903651640104\n",
      "\t 10% :  -2.5674959426569046\n"
     ]
    }
   ],
   "source": [
    "ad_test(data2['Total Incidents'])"
   ]
  },
  {
   "cell_type": "raw",
   "id": "4b3d8b6b",
   "metadata": {},
   "source": [
    "Dans les résultats, nous pouvons voir que la valeur de p obtenue à partir du test est inférieure à 0,05, nous allons donc\n",
    "rejeter l’hypothèse nulle « La série chronologique est stationnaire », ce qui signifie que la série chronologique est non \n",
    "stationnaire."
   ]
  },
  {
   "cell_type": "raw",
   "id": "11781c86",
   "metadata": {},
   "source": [
    "ARIMA intègre ces idées dans son approche combinée autorégressive et de moyenne mobile pour modéliser des données de séries \n",
    "chronologiques stationnaires. Cette approche tient compte de l’importance des fluctuations passées, inclut les tendances \n",
    "générales et vise à atténuer l’effet des valeurs aberrantes ou des changements anormaux temporaires dans les données. \n",
    "ARIMA est donc un match parfait pour capturer les tendances historiques, la saisonnalité, le hasard et d’autres comporte- ments non statiques que les humains manquent."
   ]
  },
  {
   "cell_type": "raw",
   "id": "c93b9af2",
   "metadata": {},
   "source": [
    "Parce que vous n’avez besoin de différencier que si la série n’est pas stationnaire. Sinon, aucune différenciation n’est \n",
    "nécessaire, c’est-à-dire d = 0."
   ]
  },
  {
   "cell_type": "code",
   "execution_count": 43,
   "id": "927ce1dd",
   "metadata": {},
   "outputs": [
    {
     "name": "stderr",
     "output_type": "stream",
     "text": [
      "C:\\Users\\MarieRogerNoahNoah\\.conda\\envs\\regression\\lib\\site-packages\\statsmodels\\graphics\\tsaplots.py:348: FutureWarning: The default method 'yw' can produce PACF values outside of the [-1,1] interval. After 0.13, the default will change tounadjusted Yule-Walker ('ywm'). You can use this method now by setting method='ywm'.\n",
      "  warnings.warn(\n"
     ]
    },
    {
     "data": {
      "image/png": "[encoded data removed]",
      "text/plain": [
       "<Figure size 432x288 with 1 Axes>"
      ]
     },
     "metadata": {
      "needs_background": "light"
     },
     "output_type": "display_data"
    }
   ],
   "source": [
    "plot_pacf(data2);"
   ]
  },
  {
   "cell_type": "raw",
   "id": "df1e7667",
   "metadata": {},
   "source": [
    "Vous pouvez observer que le décalage PACF 0 est assez important car il est bien au-dessus de la ligne de signification.D'où on peut fixr p à 0. "
   ]
  },
  {
   "cell_type": "raw",
   "id": "331d09a2",
   "metadata": {},
   "source": [
    "Quelques décalages sont bien au-dessus de la ligne de signification. Alors, fixons provisoirement q comme 2. En cas de doute, on va opter pour le modèle plus simple qui explique suffisamment le Y."
   ]
  },
  {
   "cell_type": "code",
   "execution_count": 45,
   "id": "729478ec",
   "metadata": {},
   "outputs": [
    {
     "name": "stdout",
     "output_type": "stream",
     "text": [
      "                               SARIMAX Results                                \n",
      "==============================================================================\n",
      "Dep. Variable:        Total Incidents   No. Observations:                 2143\n",
      "Model:                 ARIMA(0, 1, 2)   Log Likelihood               -7838.023\n",
      "Date:                Mon, 13 Jun 2022   AIC                          15682.046\n",
      "Time:                        23:07:58   BIC                          15699.054\n",
      "Sample:                    01-01-2011   HQIC                         15688.269\n",
      "                         - 11-12-2016                                         \n",
      "Covariance Type:                  opg                                         \n",
      "==============================================================================\n",
      "                 coef    std err          z      P>|z|      [0.025      0.975]\n",
      "------------------------------------------------------------------------------\n",
      "ma.L1         -0.8402      0.020    -42.212      0.000      -0.879      -0.801\n",
      "ma.L2         -0.0829      0.020     -4.089      0.000      -0.123      -0.043\n",
      "sigma2        88.2065      1.963     44.928      0.000      84.359      92.054\n",
      "===================================================================================\n",
      "Ljung-Box (L1) (Q):                   0.19   Jarque-Bera (JB):               542.93\n",
      "Prob(Q):                              0.67   Prob(JB):                         0.00\n",
      "Heteroskedasticity (H):               0.97   Skew:                             0.54\n",
      "Prob(H) (two-sided):                  0.72   Kurtosis:                         5.22\n",
      "===================================================================================\n",
      "\n",
      "Warnings:\n",
      "[1] Covariance matrix calculated using the outer product of gradients (complex-step).\n"
     ]
    }
   ],
   "source": [
    "model = sm.tsa.arima.ARIMA(data2, order=(0,1,2))\n",
    "model_fit = model.fit()\n",
    "print(model_fit.summary())"
   ]
  },
  {
   "cell_type": "raw",
   "id": "a2b3ecb7",
   "metadata": {},
   "source": [
    "Le modèle AIC  est bien. Les valeurs P des termes AR1 et MA1  sont très significatives (<< 0,05)."
   ]
  },
  {
   "cell_type": "code",
   "execution_count": 46,
   "id": "8a188675",
   "metadata": {},
   "outputs": [
    {
     "data": {
      "image/png": "[encoded data removed]",
      "text/plain": [
       "<Figure size 432x288 with 2 Axes>"
      ]
     },
     "metadata": {
      "needs_background": "light"
     },
     "output_type": "display_data"
    }
   ],
   "source": [
    "# Plot residual errors\n",
    "residuals = pd.DataFrame(model_fit.resid)\n",
    "fig, ax = plt.subplots(1,2)\n",
    "residuals.plot(title=\"Residuals\", ax=ax[0])\n",
    "residuals.plot(kind='kde', title='Density', ax=ax[1])\n",
    "plt.show()"
   ]
  }
 ],
 "metadata": {
  "kernelspec": {
   "display_name": "Python 3 (ipykernel)",
   "language": "python",
   "name": "python3"
  },
  "language_info": {
   "codemirror_mode": {
    "name": "ipython",
    "version": 3
   },
   "file_extension": ".py",
   "mimetype": "text/x-python",
   "name": "python",
   "nbconvert_exporter": "python",
   "pygments_lexer": "ipython3",
   "version": "3.10.4"
  }
 },
 "nbformat": 4,
 "nbformat_minor": 5
}
